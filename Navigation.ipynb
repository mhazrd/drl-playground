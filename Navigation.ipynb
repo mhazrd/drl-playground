{
 "cells": [
  {
   "cell_type": "markdown",
   "metadata": {},
   "source": [
    "# Navigation\n",
    "\n",
    "\n",
    "### Introduction\n",
    "\n",
    "Unity ML-agent library has a lot of simulation evnrionments to test intelligent agent models. This notebook solves the navigation task in an environment with bananas. The task is to move an agent to gain as many scores as possible by obtaining yellow bananas and avoiding purple ones. The agent uses a convention model(DQN) to learn an intelligent behavior to meet the objective. \n",
    "All the code is self contained in a notebook for a potential modification of any logic. Each component is separated to its own cell, so it can be easily written to a separate file using \"%writefile\" if necessary\n",
    "\n",
    "---\n",
    "\n",
    "\n",
    "### 1. Environment\n",
    "#### Requirements\n",
    "- Linux based OS\n",
    "- Python (dependency is listed in requirements.txt)\n",
    "- [Linux unity banana environment](https://s3-us-west-1.amazonaws.com/udacity-drlnd/P1/Banana/Banana_Linux.zip)\n",
    "\n",
    "The following code will import modules and packages required to train and evaluate a DQN model"
   ]
  },
  {
   "cell_type": "code",
   "execution_count": 1,
   "metadata": {},
   "outputs": [],
   "source": [
    "import torch\n",
    "import torch.nn as nn\n",
    "import torch.optim as optim\n",
    "import torch.nn.functional as F\n",
    "from collections import deque\n",
    "import pandas as pd\n",
    "import matplotlib.pyplot as plt"
   ]
  },
  {
   "cell_type": "code",
   "execution_count": 3,
   "metadata": {},
   "outputs": [
    {
     "name": "stderr",
     "output_type": "stream",
     "text": [
      "INFO:unityagents:\n",
      "'Academy' started successfully!\n",
      "Unity Academy name: Academy\n",
      "        Number of Brains: 1\n",
      "        Number of External Brains : 1\n",
      "        Lesson number : 0\n",
      "        Reset Parameters :\n",
      "\t\t\n",
      "Unity brain name: BananaBrain\n",
      "        Number of Visual Observations (per agent): 0\n",
      "        Vector Observation space type: continuous\n",
      "        Vector Observation space size (per agent): 37\n",
      "        Number of stacked Vector Observation: 1\n",
      "        Vector Action space type: discrete\n",
      "        Vector Action space size (per agent): 4\n",
      "        Vector Action descriptions: , , , \n"
     ]
    }
   ],
   "source": [
    "from unityagents import UnityEnvironment\n",
    "import numpy as np\n",
    "\n",
    "# Unzip the banana environment file and pass the path of \"Banana.x86_64\" to UnityEnvironment as an argument\n",
    "env = UnityEnvironment(file_name=\"/data/Banana_Linux_NoVis/Banana.x86_64\")"
   ]
  },
  {
   "cell_type": "code",
   "execution_count": 4,
   "metadata": {},
   "outputs": [],
   "source": [
    "# get the default brain\n",
    "brain_name = env.brain_names[0]\n",
    "brain = env.brains[brain_name]"
   ]
  },
  {
   "cell_type": "markdown",
   "metadata": {},
   "source": [
    "#### The environment spec\n",
    "- Number of agent: 1\n",
    "- State space: 37 dimensional vector\n",
    "- Action space: 4 discrete numbers (0: forward, 1: backward, 2: left, 3: right)\n",
    "- Reward: +1: yellow banana, -1: purple banana"
   ]
  },
  {
   "cell_type": "code",
   "execution_count": 5,
   "metadata": {},
   "outputs": [
    {
     "name": "stdout",
     "output_type": "stream",
     "text": [
      "Number of agents: 1\n",
      "Number of actions: 4\n",
      "States look like: [ 1.          0.          0.          0.          0.84408134  0.          0.\n",
      "  1.          0.          0.0748472   0.          1.          0.          0.\n",
      "  0.25755     1.          0.          0.          0.          0.74177343\n",
      "  0.          1.          0.          0.          0.25854847  0.          0.\n",
      "  1.          0.          0.09355672  0.          1.          0.          0.\n",
      "  0.31969345  0.          0.        ]\n",
      "States have length: 37\n"
     ]
    }
   ],
   "source": [
    "# reset the environment\n",
    "env_info = env.reset(train_mode=True)[brain_name]\n",
    "\n",
    "# number of agents in the environment\n",
    "print('Number of agents:', len(env_info.agents))\n",
    "\n",
    "# number of actions\n",
    "action_size = brain.vector_action_space_size\n",
    "print('Number of actions:', action_size)\n",
    "\n",
    "# examine the state space \n",
    "state = env_info.vector_observations[0]\n",
    "print('States look like:', state)\n",
    "state_size = len(state)\n",
    "print('States have length:', state_size)"
   ]
  },
  {
   "cell_type": "markdown",
   "metadata": {},
   "source": [
    "### 2. Implementation\n",
    "\n",
    "#### Model\n",
    "- **Description**\n",
    "    - Standard fully-connected NN with a Batchnorm layer and ReLU activation. This model is used to evaluate Q values given a state.\n",
    "- **Architecture**\n",
    "    - 2 Hidden layers (128, 64 nodes)\n",
    "    - 1 Output layer (4 nodes)\n",
    "    - Each hidden layer uses ReLU and Batchnorm1d\n",
    "    - Final output layer is a single linear layer without any activation\n",
    "- **Discussion**\n",
    "    - The initial hidden layer expanded the number of nodes for exploring rich feature space\n",
    "    - ReLU and Batchnorm layer are used for efficient training\n",
    "    - Final output layer doesn't use any activation because only the relative scale matters to select an action\n",
    " \n",
    "\n",
    "#### Buffer\n",
    "- **Description**\n",
    "    - Replay buffer used in a DQN algorithm. It is a standard deque with a sampling function\n",
    "- **Interface**\n",
    "    - Initialization\n",
    "        - sz: Replay buffer size\n",
    "        - pf: Probability function for sampling\n",
    "    - put(obj): Stored obj in a replay buffer\n",
    "    - sample(n): Sample n objects from a replay buffer\n",
    "    - update_pf(pf): Update the probability function pf\n",
    "- **Discussion**\n",
    "    - pf can be used for prioritized experience replay\n",
    "    - It was used to explore the potential benefit of the skew in experience sampling, but was default to uniform sampling"
   ]
  },
  {
   "cell_type": "code",
   "execution_count": 2,
   "metadata": {},
   "outputs": [],
   "source": [
    "device = 'cuda' if torch.cuda.is_available() else 'cpu'"
   ]
  },
  {
   "cell_type": "code",
   "execution_count": 3,
   "metadata": {},
   "outputs": [],
   "source": [
    "class Model(nn.Module):\n",
    "    \"\"\"\n",
    "    NN model used to evalate Q values of all possible actions given a state\n",
    "    \"\"\"\n",
    "    def __init__(self, nfs = [37, 128, 64, 4]):\n",
    "        super().__init__()\n",
    "        self.nfs = nfs\n",
    "        \n",
    "        dr = nn.Dropout()\n",
    "        layers = []\n",
    "        for nif, nof in zip(self.nfs[:-2], self.nfs[1:-1]):\n",
    "            layers.append(nn.Linear(nif, nof))\n",
    "            layers.append(nn.ReLU())\n",
    "            layers.append(nn.BatchNorm1d(nof))\n",
    "#             layers.append(dr)\n",
    "        \n",
    "        self.layers = nn.Sequential(*layers)\n",
    "        self.olin = nn.Linear(self.nfs[-2], self.nfs[-1])\n",
    "    \n",
    "    def forward(self, x):\n",
    "        x = x.clone()\n",
    "        x[:, :-1] -= 0.5\n",
    "        \n",
    "        f = self.layers(x)\n",
    "        logits = self.olin(f)\n",
    "        \n",
    "        return logits"
   ]
  },
  {
   "cell_type": "code",
   "execution_count": 4,
   "metadata": {},
   "outputs": [],
   "source": [
    "class Buffer:\n",
    "    \"\"\"\n",
    "    Replay buffer implemented with a deque.\n",
    "    \"\"\"\n",
    "    def __init__(self, sz=10000, pf=lambda x: 1):\n",
    "        self.buf = deque(maxlen=sz)\n",
    "        self.px = deque(maxlen=sz)\n",
    "        self.temp = []\n",
    "        self.pf = pf\n",
    "        \n",
    "    def update_pf(self, pf=lambda x: 1):\n",
    "        self.pf = pf\n",
    "        \n",
    "    def put(self, sars):\n",
    "        self.temp.append(sars)\n",
    "        if sars[2] != 0:\n",
    "            self.buf.extend(self.temp)\n",
    "            self.px.extend([self.pf(x) for x in range(-len(self.temp) + 1, 1)])\n",
    "#             newbuf = self.temp[np.random.randint(self.pf//70):self.pf:int(self.pf//70)]\n",
    "#             self.buf.extend(newbuf)\n",
    "#             self.px.extend([1 for _ in range(len(newbuf))])\n",
    "            self.temp.clear()\n",
    "    \n",
    "    def sample(self, n=64):\n",
    "        bufsz = len(self.buf)\n",
    "        assert bufsz == len(self.px)\n",
    "        n = bufsz if bufsz <= n else n\n",
    "        idxs = np.random.choice(range(bufsz), n, replace=False, p=(self.px / np.sum(self.px)))\n",
    "        samples = [self.buf[i] for i in idxs]\n",
    "        \n",
    "        states, actions, rewards, nstates = zip(*samples)\n",
    "        return states, actions, rewards, nstates\n",
    "    \n",
    "    def __len__(self):\n",
    "        return len(self.buf)\n",
    "    \n",
    "    def clear(self):\n",
    "        self.temp = []"
   ]
  },
  {
   "cell_type": "markdown",
   "metadata": {},
   "source": [
    "#### Training\n",
    "- **Description**\n",
    "    - Standard DQN training algorithm\n",
    "- **Detail**\n",
    "    1. Initialize a model and hyperparameters\n",
    "    2. The model (agent) interacts with the banana Unity environment to collect tuple (state, action, reward, next-state)\n",
    "    3. The collected tuples (experiences) are stored in a replay buffer\n",
    "    4. The experience is randomly batch-sampled every 4 steps(\"train_step\") and used to train the NN model\n",
    "    5. 2-4 are repeated until the average score(return) reaches the objective score (13)\n",
    "- **Hyperparameters**\n",
    "\n",
    "|name|value|description|\n",
    "|--|--|--|\n",
    "|n_episodes|3000|Max number of episodes to explore|\n",
    "|max_t|3000|Max number of time steps of each episode|\n",
    "|bn|64|Training batch size|\n",
    "|gamma|0.99|Return discounting factor|\n",
    "|eps, eps_decay, eps_min|1.0, 0.999, 0.05|Random action exploration parameters|\n",
    "|tau, tau_decay, tau_min|0.001, 0.9999, 0.001|Target network soft-update parameters|\n",
    "|train_step|4|Frequency of the training|"
   ]
  },
  {
   "cell_type": "code",
   "execution_count": 12,
   "metadata": {},
   "outputs": [],
   "source": [
    "# Number of episodes, Maximum time steps of an episode, Sample batch size\n",
    "n_episodes = 3000\n",
    "max_t = 3000\n",
    "bn = 64\n",
    "\n",
    "\n",
    "gamma = 0.99   # Discount factor\n",
    "eps = 1.       # Exploration parameter\n",
    "eps_decay = 0.999; eps_min=0.05\n",
    "tau = 0.001    # Target network soft-update\n",
    "tau_decay = 0.9999; tau_min=0.001\n",
    "train_step = 4 # Frequency of the training"
   ]
  },
  {
   "cell_type": "code",
   "execution_count": 10,
   "metadata": {},
   "outputs": [
    {
     "name": "stdout",
     "output_type": "stream",
     "text": [
      "Episode no: 149, Average score: 0.05\n",
      "Episode no: 199, Average score: 0.28\n",
      "Episode no: 249, Average score: 0.56\n",
      "Episode no: 299, Average score: 0.86\n",
      "Episode no: 349, Average score: 1.1\n",
      "Episode no: 399, Average score: 1.59\n",
      "Episode no: 449, Average score: 2.2\n",
      "Episode no: 499, Average score: 2.39\n",
      "Episode no: 549, Average score: 2.44\n",
      "Episode no: 599, Average score: 2.84\n",
      "Episode no: 649, Average score: 3.59\n",
      "Episode no: 699, Average score: 4.51\n",
      "Episode no: 749, Average score: 5.14\n",
      "Episode no: 799, Average score: 4.74\n",
      "Episode no: 849, Average score: 4.53\n",
      "Episode no: 899, Average score: 5.42\n",
      "Episode no: 949, Average score: 6.71\n",
      "Episode no: 999, Average score: 7.53\n",
      "Episode no: 1049, Average score: 7.67\n",
      "Episode no: 1099, Average score: 8.08\n",
      "Episode no: 1149, Average score: 8.05\n",
      "Episode no: 1199, Average score: 7.69\n",
      "Episode no: 1249, Average score: 8.08\n",
      "Episode no: 1299, Average score: 8.64\n",
      "Episode no: 1349, Average score: 8.87\n",
      "Episode no: 1399, Average score: 8.97\n",
      "Episode no: 1449, Average score: 9.42\n",
      "Episode no: 1499, Average score: 9.11\n",
      "Episode no: 1549, Average score: 9.24\n",
      "Episode no: 1599, Average score: 10.01\n",
      "Episode no: 1649, Average score: 10.23\n",
      "Episode no: 1699, Average score: 10.76\n",
      "Episode no: 1749, Average score: 11.31\n",
      "Episode no: 1799, Average score: 10.98\n",
      "Episode no: 1849, Average score: 9.66\n",
      "Episode no: 1899, Average score: 10.13\n",
      "Episode no: 1949, Average score: 11.34\n",
      "Episode no: 1999, Average score: 11.7\n",
      "Episode no: 2049, Average score: 12.05\n",
      "Episode no: 2099, Average score: 12.23\n",
      "Episode no: 2149, Average score: 11.88\n",
      "Episode no: 2199, Average score: 12.1\n",
      "Episode no: 2249, Average score: 12.02\n",
      "Episode no: 2299, Average score: 11.69\n",
      "Episode no: 2349, Average score: 12.44\n",
      "Episode no: 2399, Average score: 12.71\n",
      "Episode no: 2449, Average score: 13.48\n",
      "Models are saved and training is finished\n",
      "CPU times: user 49min 14s, sys: 5min 1s, total: 54min 15s\n",
      "Wall time: 1h 7min 59s\n"
     ]
    }
   ],
   "source": [
    "%%time\n",
    "q_current = Model().to(device)\n",
    "q_target = Model().to(device)\n",
    "opt = optim.Adam(q_current.parameters())\n",
    "\n",
    "# n_horizon=np.max([70, bn])\n",
    "# replay_buf = Buffer(pf=lambda x: np.max([0, x+n_horizon]))\n",
    "replay_buf = Buffer(pf=lambda x: 1)\n",
    "# short_buf = deque(maxlen=10)\n",
    "scores = []\n",
    "\n",
    "\n",
    "for i in range(n_episodes):\n",
    "    if i >= 130 and i % 50 == 49:\n",
    "        avg_score = np.mean(scores[-100:])\n",
    "        print(f\"Episode no: {i}, Average score: {avg_score}\")\n",
    "#         replay_buf.update_pf(lambda x: np.max([0, x + (n_horizon * (i // 50 + 2))]))\n",
    "#         short_buf = deque(maxlen = 10 * (i//30 + 2))\n",
    "\n",
    "        if avg_score >= 13:\n",
    "            torch.save(q_current.state_dict(), \"q_current.pth\")\n",
    "            torch.save(q_target.state_dict(), \"q_target.pth\")\n",
    "            print(\"Models are saved and training is finished\")\n",
    "            break\n",
    "    \n",
    "    \n",
    "    env_info = env.reset(train_mode=True)[brain_name] # reset the environment\n",
    "    state = env_info.vector_observations[0]            # get the current state\n",
    "    score = 0                                          # initialize the score\n",
    "  \n",
    "    rewards = []\n",
    "    for t in range(max_t):\n",
    "        st = torch.tensor(state.reshape(1,-1), dtype=torch.float, device=device)\n",
    "        \n",
    "        #####################################################\n",
    "        # Interact with environment (eps: exploration ratio)\n",
    "        #####################################################\n",
    "        q_current.eval()\n",
    "        with torch.no_grad():\n",
    "            action = (q_current(st).argmax(1).item() \n",
    "                      if np.random.random() >= np.max([eps, eps_min]) \n",
    "                      else np.random.randint(action_size))\n",
    "        q_current.train()\n",
    "        \n",
    "        env_info = env.step(action)[brain_name]        # send the action to the environment\n",
    "        next_state = env_info.vector_observations[0]   # get the next state\n",
    "        reward = env_info.rewards[0]                   # get the reward\n",
    "#         if (t >= 10 and np.sum(rewards[-len(short_buf):]) == 0 and \n",
    "#             np.any(np.vstack(short_buf)[:, :-2].dot(state[:-2]) >= 7)):\n",
    "#             reward = -1\n",
    "        done = env_info.local_done[0]                  # see if episode has finished\n",
    "        \n",
    "        rewards.append(reward)\n",
    "        replay_buf.put((state, action, reward, next_state))\n",
    "#         replay_buf.put((state, action, reward - 5*int(reward == 0 and done), next_state))\n",
    "#         short_buf.append(state)\n",
    "        \n",
    "        ################################################################################\n",
    "        # Training (Loss: MSE, tau: ratio of parameters to be mixed with target network)\n",
    "        ################################################################################\n",
    "        if t % train_step == 0 and len(replay_buf) >= 128:\n",
    "            ss, aa, rr, nss = replay_buf.sample(bn)\n",
    "            aa = torch.tensor(aa, dtype=torch.long, device=device).view(-1,1)\n",
    "            ss, rr, nss = [torch.tensor(arr, dtype=torch.float, device=device).view(len(arr), -1) \n",
    "                           for arr in (ss, rr, nss)]\n",
    "            curq = q_current(ss).gather(1, aa)\n",
    "            tgtq = rr + gamma * q_target(nss).detach().max(1)[0].view(-1,1)\n",
    "            \n",
    "            loss = F.mse_loss(curq, tgtq)\n",
    "            opt.zero_grad()\n",
    "            loss.backward()\n",
    "            opt.step()\n",
    "            \n",
    "            mixr = np.max([tau, tau_min])\n",
    "            for tparam, cparam in zip(q_target.parameters(), q_current.parameters()):\n",
    "                tparam.data.copy_(mixr * cparam.data + (1-mixr) * tparam.data)\n",
    "            tau *= tau_decay\n",
    "        \n",
    "        score += reward                                # update the score\n",
    "        state = next_state                             # roll over the state to next time step\n",
    "        \n",
    "        if done:                                       # exit loop if episode finished\n",
    "            replay_buf.clear()\n",
    "#             short_buf.clear()\n",
    "            break\n",
    "            \n",
    "    eps *= eps_decay\n",
    "    scores.append(score)"
   ]
  },
  {
   "cell_type": "markdown",
   "metadata": {},
   "source": [
    "### 3. Results"
   ]
  },
  {
   "cell_type": "markdown",
   "metadata": {},
   "source": [
    "The following 2 charts show the scores of the agent as it trains. (X: # episodes, Y: Score of each episode) <br>\n",
    "A few interesting observations are\n",
    "- The score variance increases as it trains. This means that the agent is specialised and not robust against different conditions\n",
    "- The average score generally increases, but the improvement slope decreases. This is natural because the agent can learn a few simple tricks to get some scores, but it is difficult to learn a long-running strategy to get high scores. "
   ]
  },
  {
   "cell_type": "code",
   "execution_count": 15,
   "metadata": {},
   "outputs": [
    {
     "data": {
      "text/plain": [
       "[<matplotlib.lines.Line2D at 0x7fa6de208240>]"
      ]
     },
     "execution_count": 15,
     "metadata": {},
     "output_type": "execute_result"
    },
    {
     "data": {
      "image/png": "[encoded data removed]",
      "text/plain": [
       "<matplotlib.figure.Figure at 0x7fa6e1afef28>"
      ]
     },
     "metadata": {
      "needs_background": "light"
     },
     "output_type": "display_data"
    }
   ],
   "source": [
    "plt.plot(scores)"
   ]
  },
  {
   "cell_type": "code",
   "execution_count": 16,
   "metadata": {},
   "outputs": [
    {
     "data": {
      "text/plain": [
       "<matplotlib.axes._subplots.AxesSubplot at 0x7fa6de228898>"
      ]
     },
     "execution_count": 16,
     "metadata": {},
     "output_type": "execute_result"
    },
    {
     "data": {
      "image/png": "[encoded data removed]",
      "text/plain": [
       "<matplotlib.figure.Figure at 0x7fa6e1afeeb8>"
      ]
     },
     "metadata": {
      "needs_background": "light"
     },
     "output_type": "display_data"
    }
   ],
   "source": [
    "pd.Series(scores).rolling(100).mean().plot()"
   ]
  },
  {
   "cell_type": "markdown",
   "metadata": {},
   "source": [
    "#### Agent Testing"
   ]
  },
  {
   "cell_type": "code",
   "execution_count": 22,
   "metadata": {},
   "outputs": [
    {
     "name": "stdout",
     "output_type": "stream",
     "text": [
      "Score: 16.0\n"
     ]
    }
   ],
   "source": [
    "q_current.load_state_dict(torch.load('q_current.pth'))\n",
    "q_network = q_current\n",
    "\n",
    "env_info = env.reset(train_mode=False)[brain_name] # reset the environment\n",
    "state = env_info.vector_observations[0]            # get the current state\n",
    "score = 0                                          # initialize the score\n",
    "\n",
    "rewards = []\n",
    "states = []\n",
    "for t in range(max_t):\n",
    "    st = torch.tensor(state.reshape(1,-1), dtype=torch.float, device=device)\n",
    "\n",
    "    q_network.eval()\n",
    "    with torch.no_grad():\n",
    "        action = q_network(st).argmax(1).item()\n",
    "    q_network.train()\n",
    "\n",
    "    env_info = env.step(action)[brain_name]        # send the action to the environment\n",
    "    next_state = env_info.vector_observations[0]   # get the next state\n",
    "    reward = env_info.rewards[0]                   # get the reward\n",
    "    done = env_info.local_done[0]                  # see if episode has finished\n",
    "\n",
    "    rewards.append(reward)\n",
    "    states.append(state)\n",
    "\n",
    "    score += reward                                # update the score\n",
    "    state = next_state                             # roll over the state to next time step\n",
    "\n",
    "#     if t >= 50 and np.any([(states[-10][:-2] * t[:-2]).sum() >= 7 for t in states[-20:]]):\n",
    "#         break\n",
    "    if done:                                       # exit loop if episode finished\n",
    "        break\n",
    "\n",
    "    \n",
    "print(\"Score: {}\".format(score))"
   ]
  },
  {
   "cell_type": "code",
   "execution_count": 23,
   "metadata": {},
   "outputs": [],
   "source": [
    "env.close()"
   ]
  },
  {
   "cell_type": "markdown",
   "metadata": {},
   "source": [
    "### 4. Future work"
   ]
  },
  {
   "cell_type": "markdown",
   "metadata": {},
   "source": [
    "1. Regardless of the shown scores, the actual agent's actual behavior can be different from ideal. The model and training can be debugged to find out typical behavioral issues and can be improved by tweaking an algorithm. The following general principles can be applied for the improvement\n",
    "    - Reward reshaping to give more guidance to the agent\n",
    "    - Encode characteristics of observation into the model architecture to better utilize it\n",
    "\n",
    "\n",
    "2. General improvements of RL model can be tried and compared against the simple DQN algorithm used in this notebook\n",
    "\n",
    "\n",
    "3. Replay buffer can be improved with a careful design of dynamic sampling pdf. Some of the information to be used are\n",
    "    - Difference of return expections from current to next step (Typical Experience Prioritisation)\n",
    "    - Experience sample's distance from the learning signal(reward)"
   ]
  },
  {
   "cell_type": "code",
   "execution_count": null,
   "metadata": {},
   "outputs": [],
   "source": []
  }
 ],
 "metadata": {
  "kernelspec": {
   "display_name": "Python 3",
   "language": "python",
   "name": "python3"
  },
  "language_info": {
   "codemirror_mode": {
    "name": "ipython",
    "version": 3
   },
   "file_extension": ".py",
   "mimetype": "text/x-python",
   "name": "python",
   "nbconvert_exporter": "python",
   "pygments_lexer": "ipython3",
   "version": "3.6.10"
  }
 },
 "nbformat": 4,
 "nbformat_minor": 2
}
